{
 "cells": [
  {
   "cell_type": "code",
   "execution_count": 4,
   "metadata": {
    "collapsed": true
   },
   "outputs": [],
   "source": [
    "import pandas as pd"
   ]
  },
  {
   "cell_type": "code",
   "execution_count": 5,
   "metadata": {
    "collapsed": false
   },
   "outputs": [],
   "source": [
    "df = pd.read_csv('https://raw.githubusercontent.com/paisely65/IS362-Week-5-Assignment/master/MovieRatings.csv', \n",
    "                 index_col='Raters')"
   ]
  },
  {
   "cell_type": "code",
   "execution_count": 3,
   "metadata": {
    "collapsed": false
   },
   "outputs": [
    {
     "data": {
      "text/html": [
       "<div>\n",
       "<table border=\"1\" class=\"dataframe\">\n",
       "  <thead>\n",
       "    <tr style=\"text-align: right;\">\n",
       "      <th></th>\n",
       "      <th>Beauty and the Beast</th>\n",
       "      <th>Pirates of the Caribbean- Dean men tell no tales</th>\n",
       "      <th>La La Land</th>\n",
       "      <th>Hidden Figures</th>\n",
       "      <th>Fences</th>\n",
       "      <th>Manchester by the Sea</th>\n",
       "    </tr>\n",
       "    <tr>\n",
       "      <th>Raters</th>\n",
       "      <th></th>\n",
       "      <th></th>\n",
       "      <th></th>\n",
       "      <th></th>\n",
       "      <th></th>\n",
       "      <th></th>\n",
       "    </tr>\n",
       "  </thead>\n",
       "  <tbody>\n",
       "    <tr>\n",
       "      <th>Carly</th>\n",
       "      <td>5</td>\n",
       "      <td>NaN</td>\n",
       "      <td>1</td>\n",
       "      <td>4</td>\n",
       "      <td>2</td>\n",
       "      <td>1</td>\n",
       "    </tr>\n",
       "    <tr>\n",
       "      <th>Mike</th>\n",
       "      <td>1</td>\n",
       "      <td>3</td>\n",
       "      <td>5</td>\n",
       "      <td>5</td>\n",
       "      <td>4</td>\n",
       "      <td>4</td>\n",
       "    </tr>\n",
       "    <tr>\n",
       "      <th>Sam</th>\n",
       "      <td>NaN</td>\n",
       "      <td>4</td>\n",
       "      <td>4</td>\n",
       "      <td>NaN</td>\n",
       "      <td>1</td>\n",
       "      <td>3</td>\n",
       "    </tr>\n",
       "    <tr>\n",
       "      <th>Christina</th>\n",
       "      <td>4</td>\n",
       "      <td>5</td>\n",
       "      <td>3</td>\n",
       "      <td>3</td>\n",
       "      <td>5</td>\n",
       "      <td>5</td>\n",
       "    </tr>\n",
       "    <tr>\n",
       "      <th>Nigel</th>\n",
       "      <td>4</td>\n",
       "      <td>5</td>\n",
       "      <td>4</td>\n",
       "      <td>5</td>\n",
       "      <td>5</td>\n",
       "      <td>4</td>\n",
       "    </tr>\n",
       "    <tr>\n",
       "      <th>Maddie</th>\n",
       "      <td>5</td>\n",
       "      <td>NaN</td>\n",
       "      <td>5</td>\n",
       "      <td>5</td>\n",
       "      <td>4</td>\n",
       "      <td>1</td>\n",
       "    </tr>\n",
       "  </tbody>\n",
       "</table>\n",
       "</div>"
      ],
      "text/plain": [
       "           Beauty and the Beast  \\\n",
       "Raters                            \n",
       "Carly                         5   \n",
       "Mike                          1   \n",
       "Sam                         NaN   \n",
       "Christina                     4   \n",
       "Nigel                         4   \n",
       "Maddie                        5   \n",
       "\n",
       "           Pirates of the Caribbean- Dean men tell no tales  La La Land  \\\n",
       "Raters                                                                    \n",
       "Carly                                                   NaN           1   \n",
       "Mike                                                      3           5   \n",
       "Sam                                                       4           4   \n",
       "Christina                                                 5           3   \n",
       "Nigel                                                     5           4   \n",
       "Maddie                                                  NaN           5   \n",
       "\n",
       "           Hidden Figures  Fences  Manchester by the Sea  \n",
       "Raters                                                    \n",
       "Carly                   4       2                      1  \n",
       "Mike                    5       4                      4  \n",
       "Sam                   NaN       1                      3  \n",
       "Christina               3       5                      5  \n",
       "Nigel                   5       5                      4  \n",
       "Maddie                  5       4                      1  "
      ]
     },
     "execution_count": 3,
     "metadata": {},
     "output_type": "execute_result"
    }
   ],
   "source": [
    "df"
   ]
  },
  {
   "cell_type": "code",
   "execution_count": 6,
   "metadata": {
    "collapsed": false
   },
   "outputs": [],
   "source": [
    "#Renaming a column to fisx an error.\n",
    "df.rename(columns={'Pirates of the Caribbean- Dean men tell no tales':'Pirates of the Caribbean - Dead men tell no tales'}, inplace=True)"
   ]
  },
  {
   "cell_type": "code",
   "execution_count": 7,
   "metadata": {
    "collapsed": false
   },
   "outputs": [
    {
     "data": {
      "text/html": [
       "<div>\n",
       "<table border=\"1\" class=\"dataframe\">\n",
       "  <thead>\n",
       "    <tr style=\"text-align: right;\">\n",
       "      <th></th>\n",
       "      <th>Beauty and the Beast</th>\n",
       "      <th>Pirates of the Caribbean - Dead men tell no tales</th>\n",
       "      <th>La La Land</th>\n",
       "      <th>Hidden Figures</th>\n",
       "      <th>Fences</th>\n",
       "      <th>Manchester by the Sea</th>\n",
       "    </tr>\n",
       "    <tr>\n",
       "      <th>Raters</th>\n",
       "      <th></th>\n",
       "      <th></th>\n",
       "      <th></th>\n",
       "      <th></th>\n",
       "      <th></th>\n",
       "      <th></th>\n",
       "    </tr>\n",
       "  </thead>\n",
       "  <tbody>\n",
       "    <tr>\n",
       "      <th>Carly</th>\n",
       "      <td>5.0</td>\n",
       "      <td>NaN</td>\n",
       "      <td>1</td>\n",
       "      <td>4.0</td>\n",
       "      <td>2</td>\n",
       "      <td>1</td>\n",
       "    </tr>\n",
       "    <tr>\n",
       "      <th>Mike</th>\n",
       "      <td>1.0</td>\n",
       "      <td>3.0</td>\n",
       "      <td>5</td>\n",
       "      <td>5.0</td>\n",
       "      <td>4</td>\n",
       "      <td>4</td>\n",
       "    </tr>\n",
       "    <tr>\n",
       "      <th>Sam</th>\n",
       "      <td>NaN</td>\n",
       "      <td>4.0</td>\n",
       "      <td>4</td>\n",
       "      <td>NaN</td>\n",
       "      <td>1</td>\n",
       "      <td>3</td>\n",
       "    </tr>\n",
       "    <tr>\n",
       "      <th>Christina</th>\n",
       "      <td>4.0</td>\n",
       "      <td>5.0</td>\n",
       "      <td>3</td>\n",
       "      <td>3.0</td>\n",
       "      <td>5</td>\n",
       "      <td>5</td>\n",
       "    </tr>\n",
       "    <tr>\n",
       "      <th>Nigel</th>\n",
       "      <td>4.0</td>\n",
       "      <td>5.0</td>\n",
       "      <td>4</td>\n",
       "      <td>5.0</td>\n",
       "      <td>5</td>\n",
       "      <td>4</td>\n",
       "    </tr>\n",
       "    <tr>\n",
       "      <th>Maddie</th>\n",
       "      <td>5.0</td>\n",
       "      <td>NaN</td>\n",
       "      <td>5</td>\n",
       "      <td>5.0</td>\n",
       "      <td>4</td>\n",
       "      <td>1</td>\n",
       "    </tr>\n",
       "  </tbody>\n",
       "</table>\n",
       "</div>"
      ],
      "text/plain": [
       "           Beauty and the Beast  \\\n",
       "Raters                            \n",
       "Carly                       5.0   \n",
       "Mike                        1.0   \n",
       "Sam                         NaN   \n",
       "Christina                   4.0   \n",
       "Nigel                       4.0   \n",
       "Maddie                      5.0   \n",
       "\n",
       "           Pirates of the Caribbean - Dead men tell no tales  La La Land  \\\n",
       "Raters                                                                     \n",
       "Carly                                                    NaN           1   \n",
       "Mike                                                     3.0           5   \n",
       "Sam                                                      4.0           4   \n",
       "Christina                                                5.0           3   \n",
       "Nigel                                                    5.0           4   \n",
       "Maddie                                                   NaN           5   \n",
       "\n",
       "           Hidden Figures  Fences  Manchester by the Sea  \n",
       "Raters                                                    \n",
       "Carly                 4.0       2                      1  \n",
       "Mike                  5.0       4                      4  \n",
       "Sam                   NaN       1                      3  \n",
       "Christina             3.0       5                      5  \n",
       "Nigel                 5.0       5                      4  \n",
       "Maddie                5.0       4                      1  "
      ]
     },
     "execution_count": 7,
     "metadata": {},
     "output_type": "execute_result"
    }
   ],
   "source": [
    "df"
   ]
  },
  {
   "cell_type": "code",
   "execution_count": 4,
   "metadata": {
    "collapsed": false
   },
   "outputs": [
    {
     "data": {
      "text/plain": [
       "Raters\n",
       "Carly        2.600000\n",
       "Sam          3.000000\n",
       "Mike         3.666667\n",
       "Maddie       4.000000\n",
       "Christina    4.166667\n",
       "Nigel        4.500000\n",
       "dtype: float64"
      ]
     },
     "execution_count": 4,
     "metadata": {},
     "output_type": "execute_result"
    }
   ],
   "source": [
    "# Average ratings for each user\n",
    "\n",
    "df.T.mean().sort_values()"
   ]
  },
  {
   "cell_type": "code",
   "execution_count": 5,
   "metadata": {
    "collapsed": false
   },
   "outputs": [
    {
     "data": {
      "text/plain": [
       "Manchester by the Sea                               3.000000\n",
       "Fences                                              3.500000\n",
       "La La Land                                          3.666667\n",
       "Beauty and the Beast                                3.800000\n",
       "Pirates of the Caribbean- Dean men tell no tales    4.250000\n",
       "Hidden Figures                                      4.400000\n",
       "dtype: float64"
      ]
     },
     "execution_count": 5,
     "metadata": {},
     "output_type": "execute_result"
    }
   ],
   "source": [
    "# Average ratings for each movie\n",
    "\n",
    "df.mean().sort_values()"
   ]
  },
  {
   "cell_type": "code",
   "execution_count": 6,
   "metadata": {
    "collapsed": false
   },
   "outputs": [
    {
     "data": {
      "text/html": [
       "<div>\n",
       "<table border=\"1\" class=\"dataframe\">\n",
       "  <thead>\n",
       "    <tr style=\"text-align: right;\">\n",
       "      <th></th>\n",
       "      <th>Beauty and the Beast</th>\n",
       "      <th>Pirates of the Caribbean- Dean men tell no tales</th>\n",
       "      <th>La La Land</th>\n",
       "      <th>Hidden Figures</th>\n",
       "      <th>Fences</th>\n",
       "      <th>Manchester by the Sea</th>\n",
       "    </tr>\n",
       "    <tr>\n",
       "      <th>Raters</th>\n",
       "      <th></th>\n",
       "      <th></th>\n",
       "      <th></th>\n",
       "      <th></th>\n",
       "      <th></th>\n",
       "      <th></th>\n",
       "    </tr>\n",
       "  </thead>\n",
       "  <tbody>\n",
       "    <tr>\n",
       "      <th>Carly</th>\n",
       "      <td>1.00</td>\n",
       "      <td>NaN</td>\n",
       "      <td>0.00</td>\n",
       "      <td>0.5</td>\n",
       "      <td>0.25</td>\n",
       "      <td>0.00</td>\n",
       "    </tr>\n",
       "    <tr>\n",
       "      <th>Mike</th>\n",
       "      <td>0.00</td>\n",
       "      <td>0.0</td>\n",
       "      <td>1.00</td>\n",
       "      <td>1.0</td>\n",
       "      <td>0.75</td>\n",
       "      <td>0.75</td>\n",
       "    </tr>\n",
       "    <tr>\n",
       "      <th>Sam</th>\n",
       "      <td>NaN</td>\n",
       "      <td>0.5</td>\n",
       "      <td>0.75</td>\n",
       "      <td>NaN</td>\n",
       "      <td>0.00</td>\n",
       "      <td>0.50</td>\n",
       "    </tr>\n",
       "    <tr>\n",
       "      <th>Christina</th>\n",
       "      <td>0.75</td>\n",
       "      <td>1.0</td>\n",
       "      <td>0.50</td>\n",
       "      <td>0.0</td>\n",
       "      <td>1.00</td>\n",
       "      <td>1.00</td>\n",
       "    </tr>\n",
       "    <tr>\n",
       "      <th>Nigel</th>\n",
       "      <td>0.75</td>\n",
       "      <td>1.0</td>\n",
       "      <td>0.75</td>\n",
       "      <td>1.0</td>\n",
       "      <td>1.00</td>\n",
       "      <td>0.75</td>\n",
       "    </tr>\n",
       "    <tr>\n",
       "      <th>Maddie</th>\n",
       "      <td>1.00</td>\n",
       "      <td>NaN</td>\n",
       "      <td>1.00</td>\n",
       "      <td>1.0</td>\n",
       "      <td>0.75</td>\n",
       "      <td>0.00</td>\n",
       "    </tr>\n",
       "  </tbody>\n",
       "</table>\n",
       "</div>"
      ],
      "text/plain": [
       "           Beauty and the Beast  \\\n",
       "Raters                            \n",
       "Carly                      1.00   \n",
       "Mike                       0.00   \n",
       "Sam                         NaN   \n",
       "Christina                  0.75   \n",
       "Nigel                      0.75   \n",
       "Maddie                     1.00   \n",
       "\n",
       "           Pirates of the Caribbean- Dean men tell no tales  La La Land  \\\n",
       "Raters                                                                    \n",
       "Carly                                                   NaN        0.00   \n",
       "Mike                                                    0.0        1.00   \n",
       "Sam                                                     0.5        0.75   \n",
       "Christina                                               1.0        0.50   \n",
       "Nigel                                                   1.0        0.75   \n",
       "Maddie                                                  NaN        1.00   \n",
       "\n",
       "           Hidden Figures  Fences  Manchester by the Sea  \n",
       "Raters                                                    \n",
       "Carly                 0.5    0.25                   0.00  \n",
       "Mike                  1.0    0.75                   0.75  \n",
       "Sam                   NaN    0.00                   0.50  \n",
       "Christina             0.0    1.00                   1.00  \n",
       "Nigel                 1.0    1.00                   0.75  \n",
       "Maddie                1.0    0.75                   0.00  "
      ]
     },
     "execution_count": 6,
     "metadata": {},
     "output_type": "execute_result"
    }
   ],
   "source": [
    "# Normalize data using formula from here: http://bi-analytics.org/topic/9-standardization-vs-normalization/\n",
    "df_norm = (df - df.min()) / (df.max() - df.min())\n",
    "\n",
    "df_norm"
   ]
  },
  {
   "cell_type": "code",
   "execution_count": 7,
   "metadata": {
    "collapsed": false
   },
   "outputs": [
    {
     "data": {
      "text/plain": [
       "Raters\n",
       "Carly        0.350000\n",
       "Sam          0.437500\n",
       "Mike         0.583333\n",
       "Christina    0.708333\n",
       "Maddie       0.750000\n",
       "Nigel        0.875000\n",
       "dtype: float64"
      ]
     },
     "execution_count": 7,
     "metadata": {},
     "output_type": "execute_result"
    }
   ],
   "source": [
    "# Average ratings for each user (using normalized data)\n",
    "\n",
    "df_norm.T.mean().sort_values()"
   ]
  },
  {
   "cell_type": "code",
   "execution_count": 8,
   "metadata": {
    "collapsed": false
   },
   "outputs": [
    {
     "data": {
      "text/plain": [
       "Manchester by the Sea                               0.500000\n",
       "Pirates of the Caribbean- Dean men tell no tales    0.625000\n",
       "Fences                                              0.625000\n",
       "La La Land                                          0.666667\n",
       "Beauty and the Beast                                0.700000\n",
       "Hidden Figures                                      0.700000\n",
       "dtype: float64"
      ]
     },
     "execution_count": 8,
     "metadata": {},
     "output_type": "execute_result"
    }
   ],
   "source": [
    "# Average ratings for movie (using normalized data)\n",
    "\n",
    "df_norm.mean().sort_values()"
   ]
  },
  {
   "cell_type": "markdown",
   "metadata": {
    "collapsed": true
   },
   "source": [
    "### Conclusion - advantages and disadvantages of using normalized ratings instead of the actual ratings.\n",
    "\n",
    "After normalizing user reviews, Maddie and Christina switched places in average review score. Normalizing the data did not affect the ranking of the other reviewers scores and it is important to note that the top three as well as the bottom reviewer stayed in the same ranking after normalizing the dataset. The normalized data did make it easier to compare the user reviews. Only two reviewers Carly and Mike were in the bottom half of ranking for the dataset meaning that theier normalized scores wer below 0.5. Based on the normalized data for the reviewers I would conclude that 80% of the people surveyed gave moderate to high reviews of the movies selected.\n",
    "\n",
    "Also after normalizing movie reviews, Pirates of the Caribbean went from second highest review to second lowest. It is the only movie with two NaN entries so it is possible that if there were more data that the result may not have changed that much.\n"
   ]
  },
  {
   "cell_type": "code",
   "execution_count": 9,
   "metadata": {
    "collapsed": false
   },
   "outputs": [
    {
     "data": {
      "text/html": [
       "<div>\n",
       "<table border=\"1\" class=\"dataframe\">\n",
       "  <thead>\n",
       "    <tr style=\"text-align: right;\">\n",
       "      <th></th>\n",
       "      <th>Beauty and the Beast</th>\n",
       "      <th>Pirates of the Caribbean - Dead men tell no tales</th>\n",
       "      <th>La La Land</th>\n",
       "      <th>Hidden Figures</th>\n",
       "      <th>Fences</th>\n",
       "      <th>Manchester by the Sea</th>\n",
       "    </tr>\n",
       "    <tr>\n",
       "      <th>Raters</th>\n",
       "      <th></th>\n",
       "      <th></th>\n",
       "      <th></th>\n",
       "      <th></th>\n",
       "      <th></th>\n",
       "      <th></th>\n",
       "    </tr>\n",
       "  </thead>\n",
       "  <tbody>\n",
       "    <tr>\n",
       "      <th>Carly</th>\n",
       "      <td>0.730297</td>\n",
       "      <td>NaN</td>\n",
       "      <td>-1.771230</td>\n",
       "      <td>-0.447214</td>\n",
       "      <td>-0.912871</td>\n",
       "      <td>-1.195229</td>\n",
       "    </tr>\n",
       "    <tr>\n",
       "      <th>Mike</th>\n",
       "      <td>-1.704026</td>\n",
       "      <td>-1.305582</td>\n",
       "      <td>0.885615</td>\n",
       "      <td>0.670820</td>\n",
       "      <td>0.304290</td>\n",
       "      <td>0.597614</td>\n",
       "    </tr>\n",
       "    <tr>\n",
       "      <th>Sam</th>\n",
       "      <td>NaN</td>\n",
       "      <td>-0.261116</td>\n",
       "      <td>0.221404</td>\n",
       "      <td>NaN</td>\n",
       "      <td>-1.521452</td>\n",
       "      <td>0.000000</td>\n",
       "    </tr>\n",
       "    <tr>\n",
       "      <th>Christina</th>\n",
       "      <td>0.121716</td>\n",
       "      <td>0.783349</td>\n",
       "      <td>-0.442807</td>\n",
       "      <td>-1.565248</td>\n",
       "      <td>0.912871</td>\n",
       "      <td>1.195229</td>\n",
       "    </tr>\n",
       "    <tr>\n",
       "      <th>Nigel</th>\n",
       "      <td>0.121716</td>\n",
       "      <td>0.783349</td>\n",
       "      <td>0.221404</td>\n",
       "      <td>0.670820</td>\n",
       "      <td>0.912871</td>\n",
       "      <td>0.597614</td>\n",
       "    </tr>\n",
       "    <tr>\n",
       "      <th>Maddie</th>\n",
       "      <td>0.730297</td>\n",
       "      <td>NaN</td>\n",
       "      <td>0.885615</td>\n",
       "      <td>0.670820</td>\n",
       "      <td>0.304290</td>\n",
       "      <td>-1.195229</td>\n",
       "    </tr>\n",
       "  </tbody>\n",
       "</table>\n",
       "</div>"
      ],
      "text/plain": [
       "           Beauty and the Beast  \\\n",
       "Raters                            \n",
       "Carly                  0.730297   \n",
       "Mike                  -1.704026   \n",
       "Sam                         NaN   \n",
       "Christina              0.121716   \n",
       "Nigel                  0.121716   \n",
       "Maddie                 0.730297   \n",
       "\n",
       "           Pirates of the Caribbean - Dead men tell no tales  La La Land  \\\n",
       "Raters                                                                     \n",
       "Carly                                                    NaN   -1.771230   \n",
       "Mike                                               -1.305582    0.885615   \n",
       "Sam                                                -0.261116    0.221404   \n",
       "Christina                                           0.783349   -0.442807   \n",
       "Nigel                                               0.783349    0.221404   \n",
       "Maddie                                                   NaN    0.885615   \n",
       "\n",
       "           Hidden Figures    Fences  Manchester by the Sea  \n",
       "Raters                                                      \n",
       "Carly           -0.447214 -0.912871              -1.195229  \n",
       "Mike             0.670820  0.304290               0.597614  \n",
       "Sam                   NaN -1.521452               0.000000  \n",
       "Christina       -1.565248  0.912871               1.195229  \n",
       "Nigel            0.670820  0.912871               0.597614  \n",
       "Maddie           0.670820  0.304290              -1.195229  "
      ]
     },
     "execution_count": 9,
     "metadata": {},
     "output_type": "execute_result"
    }
   ],
   "source": [
    "# Additioal Analysis - standardized data\n",
    "\n",
    "df_stand = (df - df.mean()) / (df.std())\n",
    "\n",
    "df_stand"
   ]
  },
  {
   "cell_type": "code",
   "execution_count": 10,
   "metadata": {
    "collapsed": false
   },
   "outputs": [
    {
     "data": {
      "text/plain": [
       "Raters\n",
       "Carly       -0.719249\n",
       "Sam         -0.390291\n",
       "Mike        -0.091878\n",
       "Christina    0.167518\n",
       "Maddie       0.279159\n",
       "Nigel        0.551296\n",
       "dtype: float64"
      ]
     },
     "execution_count": 10,
     "metadata": {},
     "output_type": "execute_result"
    }
   ],
   "source": [
    "# Average ratings for each user (using standardized data)\n",
    "\n",
    "df_stand.T.mean().sort_values()"
   ]
  },
  {
   "cell_type": "code",
   "execution_count": 12,
   "metadata": {
    "collapsed": false
   },
   "outputs": [
    {
     "data": {
      "text/plain": [
       "Hidden Figures                                      -4.440892e-16\n",
       "Manchester by the Sea                                0.000000e+00\n",
       "Fences                                               9.251859e-18\n",
       "Pirates of the Caribbean - Dead men tell no tales    5.551115e-17\n",
       "La La Land                                           1.110223e-16\n",
       "Beauty and the Beast                                 1.332268e-16\n",
       "dtype: float64"
      ]
     },
     "execution_count": 12,
     "metadata": {},
     "output_type": "execute_result"
    }
   ],
   "source": [
    "# Average ratings for movie (using standardized data)\n",
    "\n",
    "df_stand.mean().sort_values()"
   ]
  },
  {
   "cell_type": "markdown",
   "metadata": {
    "collapsed": true
   },
   "source": [
    "### Conclusion - standardized data\n",
    " The results for the raters for both average ratings and standardized rating same the ranking. This indiated that the rankings of the mean of each rater and the deviation from the mean follow the same trend. The averge of the ratings by movie show a slight variation. Beauty and beast shows the greatest deviation from the mean. The high values with the one as a possible outlier is a possible reason why the values deviated the most from the mean.  Hidden Figures average data values shows that it had the highest average showing that most of its values were centered around the higher end of the reporting range of 1 to 5 giveing int the lowest deviation from the mean and the lower=st standardized value."
   ]
  },
  {
   "cell_type": "code",
   "execution_count": null,
   "metadata": {
    "collapsed": true
   },
   "outputs": [],
   "source": []
  }
 ],
 "metadata": {
  "kernelspec": {
   "display_name": "Python 3",
   "language": "python",
   "name": "python3"
  },
  "language_info": {
   "codemirror_mode": {
    "name": "ipython",
    "version": 3
   },
   "file_extension": ".py",
   "mimetype": "text/x-python",
   "name": "python",
   "nbconvert_exporter": "python",
   "pygments_lexer": "ipython3",
   "version": "3.6.0"
  }
 },
 "nbformat": 4,
 "nbformat_minor": 0
}
